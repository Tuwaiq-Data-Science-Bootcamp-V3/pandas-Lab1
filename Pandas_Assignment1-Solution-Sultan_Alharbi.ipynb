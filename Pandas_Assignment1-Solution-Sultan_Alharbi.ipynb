{
 "cells": [
  {
   "cell_type": "code",
   "execution_count": 1,
   "id": "d3aaed2d",
   "metadata": {},
   "outputs": [],
   "source": [
    "import pandas as pd"
   ]
  },
  {
   "cell_type": "markdown",
   "id": "c8502047",
   "metadata": {},
   "source": [
    "## Q1: Create a Series with indexes = 1, 2, 3 and has three names."
   ]
  },
  {
   "cell_type": "code",
   "execution_count": 5,
   "id": "dc122631",
   "metadata": {},
   "outputs": [
    {
     "data": {
      "text/plain": [
       "1      Sultan\n",
       "2         Ali\n",
       "3    Abdullah\n",
       "dtype: object"
      ]
     },
     "execution_count": 5,
     "metadata": {},
     "output_type": "execute_result"
    }
   ],
   "source": [
    "Data=[\"Sultan\",\"Ali\",\"Abdullah\"]\n",
    "Data=pd.Series(Data, index=[1,2,3])\n",
    "Data"
   ]
  },
  {
   "cell_type": "markdown",
   "id": "443e73f6",
   "metadata": {},
   "source": [
    "## Q2: Change indexes to 11, 12, 13."
   ]
  },
  {
   "cell_type": "code",
   "execution_count": 8,
   "id": "ae224dba",
   "metadata": {},
   "outputs": [
    {
     "data": {
      "text/plain": [
       "11      Sultan\n",
       "12         Ali\n",
       "13    Abdullah\n",
       "dtype: object"
      ]
     },
     "execution_count": 8,
     "metadata": {},
     "output_type": "execute_result"
    }
   ],
   "source": [
    "Data.index=[11,12,13]\n",
    "Data"
   ]
  },
  {
   "cell_type": "markdown",
   "id": "7f562099",
   "metadata": {},
   "source": [
    "## Q3: Retrieve First and second elements."
   ]
  },
  {
   "cell_type": "code",
   "execution_count": 11,
   "id": "bbe9dee3",
   "metadata": {},
   "outputs": [
    {
     "data": {
      "text/plain": [
       "11    Sultan\n",
       "12       Ali\n",
       "dtype: object"
      ]
     },
     "execution_count": 11,
     "metadata": {},
     "output_type": "execute_result"
    }
   ],
   "source": [
    "Data[:2]"
   ]
  },
  {
   "cell_type": "markdown",
   "id": "c771754d",
   "metadata": {},
   "source": [
    "## Q4: Add duplicate elements, then remove the duplication."
   ]
  },
  {
   "cell_type": "code",
   "execution_count": 15,
   "id": "cf5a1d1a",
   "metadata": {},
   "outputs": [
    {
     "name": "stderr",
     "output_type": "stream",
     "text": [
      "C:\\Users\\ttsul\\AppData\\Local\\Temp\\ipykernel_13552\\2682826882.py:2: FutureWarning: The series.append method is deprecated and will be removed from pandas in a future version. Use pandas.concat instead.\n",
      "  Data = Data.append(new_data)\n"
     ]
    },
    {
     "data": {
      "text/plain": [
       "11      Sultan\n",
       "12         Ali\n",
       "13    Abdullah\n",
       "0       Sultan\n",
       "1          Ali\n",
       "2     Abdullah\n",
       "dtype: object"
      ]
     },
     "execution_count": 15,
     "metadata": {},
     "output_type": "execute_result"
    }
   ],
   "source": [
    "new_data = pd.Series([\"Sultan\",\"Ali\",\"Abdullah\"])\n",
    "Data = Data.append(new_data)\n",
    "Data"
   ]
  },
  {
   "cell_type": "code",
   "execution_count": 20,
   "id": "56b9f408",
   "metadata": {},
   "outputs": [
    {
     "data": {
      "text/plain": [
       "11      Sultan\n",
       "12         Ali\n",
       "13    Abdullah\n",
       "dtype: object"
      ]
     },
     "execution_count": 20,
     "metadata": {},
     "output_type": "execute_result"
    }
   ],
   "source": [
    "Data.drop_duplicates(inplace=True)\n",
    "Data"
   ]
  },
  {
   "cell_type": "markdown",
   "id": "329164fe",
   "metadata": {},
   "source": [
    "## Q5: Create a Students DataFrame has three columns (ID, Name, GPA)."
   ]
  },
  {
   "cell_type": "code",
   "execution_count": 25,
   "id": "873e1727",
   "metadata": {},
   "outputs": [
    {
     "data": {
      "text/html": [
       "<div>\n",
       "<style scoped>\n",
       "    .dataframe tbody tr th:only-of-type {\n",
       "        vertical-align: middle;\n",
       "    }\n",
       "\n",
       "    .dataframe tbody tr th {\n",
       "        vertical-align: top;\n",
       "    }\n",
       "\n",
       "    .dataframe thead th {\n",
       "        text-align: right;\n",
       "    }\n",
       "</style>\n",
       "<table border=\"1\" class=\"dataframe\">\n",
       "  <thead>\n",
       "    <tr style=\"text-align: right;\">\n",
       "      <th></th>\n",
       "      <th>ID</th>\n",
       "      <th>Name</th>\n",
       "      <th>GPA</th>\n",
       "    </tr>\n",
       "  </thead>\n",
       "  <tbody>\n",
       "    <tr>\n",
       "      <th>0</th>\n",
       "      <td>111</td>\n",
       "      <td>Sultan</td>\n",
       "      <td>4.50</td>\n",
       "    </tr>\n",
       "    <tr>\n",
       "      <th>1</th>\n",
       "      <td>222</td>\n",
       "      <td>Ali</td>\n",
       "      <td>4.90</td>\n",
       "    </tr>\n",
       "    <tr>\n",
       "      <th>2</th>\n",
       "      <td>333</td>\n",
       "      <td>Abdullah</td>\n",
       "      <td>3.86</td>\n",
       "    </tr>\n",
       "  </tbody>\n",
       "</table>\n",
       "</div>"
      ],
      "text/plain": [
       "    ID      Name   GPA\n",
       "0  111    Sultan  4.50\n",
       "1  222       Ali  4.90\n",
       "2  333  Abdullah  3.86"
      ]
     },
     "execution_count": 25,
     "metadata": {},
     "output_type": "execute_result"
    }
   ],
   "source": [
    "Student={\"ID\":[111,222,333],\n",
    "        \"Name\":[\"Sultan\",\"Ali\",\"Abdullah\"],\n",
    "        \"GPA\":[4.5,4.9,3.86]}\n",
    "\n",
    "pd.DataFrame(Student,columns=[\"ID\",\"Name\",\"GPA\"])"
   ]
  },
  {
   "cell_type": "markdown",
   "id": "2808d244",
   "metadata": {},
   "source": [
    "## Q6: Read educ_figdp_1_Data.csv file and print the head."
   ]
  },
  {
   "cell_type": "code",
   "execution_count": 31,
   "id": "3b0baf98",
   "metadata": {},
   "outputs": [
    {
     "data": {
      "text/html": [
       "<div>\n",
       "<style scoped>\n",
       "    .dataframe tbody tr th:only-of-type {\n",
       "        vertical-align: middle;\n",
       "    }\n",
       "\n",
       "    .dataframe tbody tr th {\n",
       "        vertical-align: top;\n",
       "    }\n",
       "\n",
       "    .dataframe thead th {\n",
       "        text-align: right;\n",
       "    }\n",
       "</style>\n",
       "<table border=\"1\" class=\"dataframe\">\n",
       "  <thead>\n",
       "    <tr style=\"text-align: right;\">\n",
       "      <th></th>\n",
       "      <th>TIME</th>\n",
       "      <th>GEO</th>\n",
       "      <th>INDIC_ED</th>\n",
       "      <th>Value</th>\n",
       "      <th>Flag and Footnotes</th>\n",
       "    </tr>\n",
       "  </thead>\n",
       "  <tbody>\n",
       "    <tr>\n",
       "      <th>0</th>\n",
       "      <td>2000</td>\n",
       "      <td>European Union (28 countries)</td>\n",
       "      <td>Total public expenditure on education as % of ...</td>\n",
       "      <td>:</td>\n",
       "      <td>NaN</td>\n",
       "    </tr>\n",
       "    <tr>\n",
       "      <th>1</th>\n",
       "      <td>2001</td>\n",
       "      <td>European Union (28 countries)</td>\n",
       "      <td>Total public expenditure on education as % of ...</td>\n",
       "      <td>:</td>\n",
       "      <td>NaN</td>\n",
       "    </tr>\n",
       "    <tr>\n",
       "      <th>2</th>\n",
       "      <td>2002</td>\n",
       "      <td>European Union (28 countries)</td>\n",
       "      <td>Total public expenditure on education as % of ...</td>\n",
       "      <td>5.00</td>\n",
       "      <td>e</td>\n",
       "    </tr>\n",
       "    <tr>\n",
       "      <th>3</th>\n",
       "      <td>2003</td>\n",
       "      <td>European Union (28 countries)</td>\n",
       "      <td>Total public expenditure on education as % of ...</td>\n",
       "      <td>5.03</td>\n",
       "      <td>e</td>\n",
       "    </tr>\n",
       "    <tr>\n",
       "      <th>4</th>\n",
       "      <td>2004</td>\n",
       "      <td>European Union (28 countries)</td>\n",
       "      <td>Total public expenditure on education as % of ...</td>\n",
       "      <td>4.95</td>\n",
       "      <td>e</td>\n",
       "    </tr>\n",
       "  </tbody>\n",
       "</table>\n",
       "</div>"
      ],
      "text/plain": [
       "   TIME                            GEO  \\\n",
       "0  2000  European Union (28 countries)   \n",
       "1  2001  European Union (28 countries)   \n",
       "2  2002  European Union (28 countries)   \n",
       "3  2003  European Union (28 countries)   \n",
       "4  2004  European Union (28 countries)   \n",
       "\n",
       "                                            INDIC_ED Value Flag and Footnotes  \n",
       "0  Total public expenditure on education as % of ...     :                NaN  \n",
       "1  Total public expenditure on education as % of ...     :                NaN  \n",
       "2  Total public expenditure on education as % of ...  5.00                  e  \n",
       "3  Total public expenditure on education as % of ...  5.03                  e  \n",
       "4  Total public expenditure on education as % of ...  4.95                  e  "
      ]
     },
     "execution_count": 31,
     "metadata": {},
     "output_type": "execute_result"
    }
   ],
   "source": [
    "edu=pd.read_csv(\"C:/Users/ttsul/OneDrive/سطح المكتب/BootCamp Materials/Lectures/6-pandas/educ_figdp_1_Data.csv\")\n",
    "edu.head()"
   ]
  },
  {
   "cell_type": "markdown",
   "id": "34574733",
   "metadata": {},
   "source": [
    "## Q7: Give an example shows the difference between loc and slicing?\n",
    "**Note:**\n",
    "- loc use the index labels as references.\n",
    "- slice use the position as references."
   ]
  },
  {
   "cell_type": "code",
   "execution_count": 40,
   "id": "0d5876f7",
   "metadata": {},
   "outputs": [
    {
     "data": {
      "text/html": [
       "<div>\n",
       "<style scoped>\n",
       "    .dataframe tbody tr th:only-of-type {\n",
       "        vertical-align: middle;\n",
       "    }\n",
       "\n",
       "    .dataframe tbody tr th {\n",
       "        vertical-align: top;\n",
       "    }\n",
       "\n",
       "    .dataframe thead th {\n",
       "        text-align: right;\n",
       "    }\n",
       "</style>\n",
       "<table border=\"1\" class=\"dataframe\">\n",
       "  <thead>\n",
       "    <tr style=\"text-align: right;\">\n",
       "      <th></th>\n",
       "      <th>TIME</th>\n",
       "      <th>GEO</th>\n",
       "      <th>INDIC_ED</th>\n",
       "      <th>Value</th>\n",
       "      <th>Flag and Footnotes</th>\n",
       "    </tr>\n",
       "  </thead>\n",
       "  <tbody>\n",
       "    <tr>\n",
       "      <th>0</th>\n",
       "      <td>2000</td>\n",
       "      <td>European Union (28 countries)</td>\n",
       "      <td>Total public expenditure on education as % of ...</td>\n",
       "      <td>:</td>\n",
       "      <td>NaN</td>\n",
       "    </tr>\n",
       "    <tr>\n",
       "      <th>1</th>\n",
       "      <td>2001</td>\n",
       "      <td>European Union (28 countries)</td>\n",
       "      <td>Total public expenditure on education as % of ...</td>\n",
       "      <td>:</td>\n",
       "      <td>NaN</td>\n",
       "    </tr>\n",
       "    <tr>\n",
       "      <th>2</th>\n",
       "      <td>2002</td>\n",
       "      <td>European Union (28 countries)</td>\n",
       "      <td>Total public expenditure on education as % of ...</td>\n",
       "      <td>5.00</td>\n",
       "      <td>e</td>\n",
       "    </tr>\n",
       "  </tbody>\n",
       "</table>\n",
       "</div>"
      ],
      "text/plain": [
       "   TIME                            GEO  \\\n",
       "0  2000  European Union (28 countries)   \n",
       "1  2001  European Union (28 countries)   \n",
       "2  2002  European Union (28 countries)   \n",
       "\n",
       "                                            INDIC_ED Value Flag and Footnotes  \n",
       "0  Total public expenditure on education as % of ...     :                NaN  \n",
       "1  Total public expenditure on education as % of ...     :                NaN  \n",
       "2  Total public expenditure on education as % of ...  5.00                  e  "
      ]
     },
     "execution_count": 40,
     "metadata": {},
     "output_type": "execute_result"
    }
   ],
   "source": [
    "edu[:3] ## slicing last item(execluded) because slice use the position as references."
   ]
  },
  {
   "cell_type": "code",
   "execution_count": 41,
   "id": "b972dd04",
   "metadata": {},
   "outputs": [
    {
     "data": {
      "text/html": [
       "<div>\n",
       "<style scoped>\n",
       "    .dataframe tbody tr th:only-of-type {\n",
       "        vertical-align: middle;\n",
       "    }\n",
       "\n",
       "    .dataframe tbody tr th {\n",
       "        vertical-align: top;\n",
       "    }\n",
       "\n",
       "    .dataframe thead th {\n",
       "        text-align: right;\n",
       "    }\n",
       "</style>\n",
       "<table border=\"1\" class=\"dataframe\">\n",
       "  <thead>\n",
       "    <tr style=\"text-align: right;\">\n",
       "      <th></th>\n",
       "      <th>TIME</th>\n",
       "      <th>GEO</th>\n",
       "      <th>INDIC_ED</th>\n",
       "      <th>Value</th>\n",
       "      <th>Flag and Footnotes</th>\n",
       "    </tr>\n",
       "  </thead>\n",
       "  <tbody>\n",
       "    <tr>\n",
       "      <th>0</th>\n",
       "      <td>2000</td>\n",
       "      <td>European Union (28 countries)</td>\n",
       "      <td>Total public expenditure on education as % of ...</td>\n",
       "      <td>:</td>\n",
       "      <td>NaN</td>\n",
       "    </tr>\n",
       "    <tr>\n",
       "      <th>1</th>\n",
       "      <td>2001</td>\n",
       "      <td>European Union (28 countries)</td>\n",
       "      <td>Total public expenditure on education as % of ...</td>\n",
       "      <td>:</td>\n",
       "      <td>NaN</td>\n",
       "    </tr>\n",
       "    <tr>\n",
       "      <th>2</th>\n",
       "      <td>2002</td>\n",
       "      <td>European Union (28 countries)</td>\n",
       "      <td>Total public expenditure on education as % of ...</td>\n",
       "      <td>5.00</td>\n",
       "      <td>e</td>\n",
       "    </tr>\n",
       "    <tr>\n",
       "      <th>3</th>\n",
       "      <td>2003</td>\n",
       "      <td>European Union (28 countries)</td>\n",
       "      <td>Total public expenditure on education as % of ...</td>\n",
       "      <td>5.03</td>\n",
       "      <td>e</td>\n",
       "    </tr>\n",
       "  </tbody>\n",
       "</table>\n",
       "</div>"
      ],
      "text/plain": [
       "   TIME                            GEO  \\\n",
       "0  2000  European Union (28 countries)   \n",
       "1  2001  European Union (28 countries)   \n",
       "2  2002  European Union (28 countries)   \n",
       "3  2003  European Union (28 countries)   \n",
       "\n",
       "                                            INDIC_ED Value Flag and Footnotes  \n",
       "0  Total public expenditure on education as % of ...     :                NaN  \n",
       "1  Total public expenditure on education as % of ...     :                NaN  \n",
       "2  Total public expenditure on education as % of ...  5.00                  e  \n",
       "3  Total public expenditure on education as % of ...  5.03                  e  "
      ]
     },
     "execution_count": 41,
     "metadata": {},
     "output_type": "execute_result"
    }
   ],
   "source": [
    "edu.loc[:3] # loc Include Last Because loc use the index labels as references"
   ]
  }
 ],
 "metadata": {
  "kernelspec": {
   "display_name": "Python 3 (ipykernel)",
   "language": "python",
   "name": "python3"
  },
  "language_info": {
   "codemirror_mode": {
    "name": "ipython",
    "version": 3
   },
   "file_extension": ".py",
   "mimetype": "text/x-python",
   "name": "python",
   "nbconvert_exporter": "python",
   "pygments_lexer": "ipython3",
   "version": "3.9.12"
  }
 },
 "nbformat": 4,
 "nbformat_minor": 5
}
